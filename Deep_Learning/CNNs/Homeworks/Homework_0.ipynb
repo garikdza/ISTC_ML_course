{
 "cells": [
  {
   "cell_type": "markdown",
   "metadata": {},
   "source": [
    "## Homework_0 CIFAR10 Classification \n",
    "\n",
    "* Load CIFAR10 dataset\n",
    "* Print and plot some statistics about counts and labels\n",
    "* Build your CNN (Do experiments, don't forget about Dropouts and Batch Normalization) with more than 80+ accuracy on tests\n",
    "* Visualize the results\n",
    "* Do same with TensorFlow "
   ]
  },
  {
   "cell_type": "code",
   "execution_count": null,
   "metadata": {},
   "outputs": [],
   "source": []
  }
 ],
 "metadata": {
  "kernelspec": {
   "display_name": "Python 3",
   "language": "python",
   "name": "python3"
  },
  "language_info": {
   "codemirror_mode": {
    "name": "ipython",
    "version": 3
   },
   "file_extension": ".py",
   "mimetype": "text/x-python",
   "name": "python",
   "nbconvert_exporter": "python",
   "pygments_lexer": "ipython3",
   "version": "3.6.7"
  }
 },
 "nbformat": 4,
 "nbformat_minor": 2
}
