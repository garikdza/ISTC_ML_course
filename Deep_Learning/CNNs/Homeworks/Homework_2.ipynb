{
 "cells": [
  {
   "cell_type": "markdown",
   "metadata": {},
   "source": [
    "## Homework_2\n",
    "## Transfer_Learning\n",
    "#### Tasks\n",
    "\n",
    "* Download Cat vs Dogs Kaagle [Competiton](https://www.kaggle.com/c/dogs-vs-cats-redux-kernels-edition/overview) dataset\n",
    "* Print Statistics about counts,labels and shapes, plot random images\n",
    "* Write data generator(for train, and val), plot results and choose good parameters for data augmantation\n",
    "* Use Keras VGG-16 pre-trained model, for first froze convolutional base, build and train your classifier part\n",
    "* Unfroze some layers(Do experiments)\n",
    "* Try same with ResNet50\n",
    "* Finally, get more than 95% accuracy"
   ]
  },
  {
   "cell_type": "markdown",
   "metadata": {},
   "source": [
    "### Imports"
   ]
  },
  {
   "cell_type": "code",
   "execution_count": 1,
   "metadata": {},
   "outputs": [],
   "source": [
    "import os\n",
    "from tqdm import tqdm\n",
    "import shutil\n",
    "import numpy as np\n",
    "import matplotlib.pyplot as plt\n",
    "from sklearn.model_selection import train_test_split\n",
    "from tensorflow.keras.preprocessing.image import ImageDataGenerator,load_img,img_to_array\n",
    "import pandas as pd\n"
   ]
  },
  {
   "cell_type": "markdown",
   "metadata": {},
   "source": [
    "### Paths settings"
   ]
  },
  {
   "cell_type": "code",
   "execution_count": 6,
   "metadata": {},
   "outputs": [],
   "source": [
    "\n",
    "train_path = \"../../../../cat_vs_dog_dataset/train/\" #change your path\n",
    "\n",
    "train_dogs_path = \"train_images/dog\"\n",
    "train_cats_path = \"train_images/cat\"\n",
    "val_dogs_path = \"val_images/dog\"\n",
    "val_cats_path = \"val_images/cat\"\n",
    "\n",
    "train_im_ids = os.listdir(train_path)"
   ]
  },
  {
   "cell_type": "code",
   "execution_count": 7,
   "metadata": {},
   "outputs": [],
   "source": [
    "train_images = \"train_images\"\n",
    "val_images = \"val_images\""
   ]
  },
  {
   "cell_type": "markdown",
   "metadata": {},
   "source": [
    "### Split into train and validation"
   ]
  },
  {
   "cell_type": "code",
   "execution_count": 8,
   "metadata": {},
   "outputs": [],
   "source": [
    "classes = np.array([id_.split(\".\")[0] for id_ in train_im_ids])\n",
    "X_train, X_test, y_train, y_test = train_test_split(train_im_ids,classes,test_size = 0.3,random_state = 5) #keep seed for random"
   ]
  },
  {
   "cell_type": "code",
   "execution_count": 9,
   "metadata": {},
   "outputs": [],
   "source": [
    "train_dogs_ids = np.take(X_train,np.where(y_train == \"dog\")[0])\n",
    "train_cats_ids = np.take(X_train,np.where(y_train == \"cat\")[0])\n",
    "\n",
    "val_dogs_ids = np.take(X_test,np.where(y_test == \"dog\")[0])\n",
    "val_cats_ids = np.take(X_test,np.where(y_test == \"cat\")[0])"
   ]
  },
  {
   "cell_type": "markdown",
   "metadata": {},
   "source": [
    "### Make directories for train cats/dogs and val cats/dogs"
   ]
  },
  {
   "cell_type": "code",
   "execution_count": 11,
   "metadata": {},
   "outputs": [],
   "source": [
    "os.makedirs(train_dogs_path)\n",
    "os.makedirs(train_cats_path)\n",
    "\n",
    "os.makedirs(val_dogs_path)\n",
    "os.makedirs(val_cats_path)"
   ]
  },
  {
   "cell_type": "markdown",
   "metadata": {},
   "source": [
    "### Copy to directories"
   ]
  },
  {
   "cell_type": "code",
   "execution_count": 12,
   "metadata": {},
   "outputs": [],
   "source": [
    "def copy_to(source,dest,ids):\n",
    "    for id_ in tqdm(ids):\n",
    "        shutil.copy2(source+id_,dest)\n",
    "        "
   ]
  },
  {
   "cell_type": "code",
   "execution_count": 13,
   "metadata": {},
   "outputs": [
    {
     "name": "stderr",
     "output_type": "stream",
     "text": [
      "100%|██████████| 8707/8707 [00:00<00:00, 12944.86it/s]\n"
     ]
    }
   ],
   "source": [
    "copy_to(train_path,train_dogs_path,train_dogs_ids)"
   ]
  },
  {
   "cell_type": "code",
   "execution_count": 14,
   "metadata": {},
   "outputs": [
    {
     "name": "stderr",
     "output_type": "stream",
     "text": [
      "100%|██████████| 8793/8793 [00:00<00:00, 13689.03it/s]\n"
     ]
    }
   ],
   "source": [
    "copy_to(train_path,train_cats_path,train_cats_ids)"
   ]
  },
  {
   "cell_type": "code",
   "execution_count": 15,
   "metadata": {},
   "outputs": [
    {
     "name": "stderr",
     "output_type": "stream",
     "text": [
      "100%|██████████| 3793/3793 [00:00<00:00, 12831.11it/s]\n"
     ]
    }
   ],
   "source": [
    "copy_to(train_path,val_dogs_path,val_dogs_ids)"
   ]
  },
  {
   "cell_type": "code",
   "execution_count": 16,
   "metadata": {},
   "outputs": [
    {
     "name": "stderr",
     "output_type": "stream",
     "text": [
      "100%|██████████| 3707/3707 [00:00<00:00, 13126.99it/s]\n"
     ]
    }
   ],
   "source": [
    "copy_to(train_path,val_cats_path,val_cats_ids)"
   ]
  },
  {
   "cell_type": "code",
   "execution_count": null,
   "metadata": {},
   "outputs": [],
   "source": []
  }
 ],
 "metadata": {
  "kernelspec": {
   "display_name": "Python 3",
   "language": "python",
   "name": "python3"
  },
  "language_info": {
   "codemirror_mode": {
    "name": "ipython",
    "version": 3
   },
   "file_extension": ".py",
   "mimetype": "text/x-python",
   "name": "python",
   "nbconvert_exporter": "python",
   "pygments_lexer": "ipython3",
   "version": "3.6.7"
  }
 },
 "nbformat": 4,
 "nbformat_minor": 2
}
