{
 "cells": [
  {
   "cell_type": "markdown",
   "metadata": {},
   "source": [
    "## Homework_2\n",
    "## Transfer_Learning\n",
    "#### Tasks\n",
    "\n",
    "* Download Cat vs Dogs Kaagle [Competiton](https://www.kaggle.com/c/dogs-vs-cats-redux-kernels-edition/overview) dataset\n",
    "* Print Statistics about counts,labels and shapes, plot random images\n",
    "* Write data generator(for train, and val), plot results and choose good parameters for data augmantation\n",
    "* Use Keras VGG-16 pre-trained model, for first froze convolutional base, build and train your classifier part\n",
    "* Unfroze some layers(Do experiments)\n",
    "* Try same with ResNet50\n",
    "* Finally, get more than 95% accuracy"
   ]
  },
  {
   "cell_type": "markdown",
   "metadata": {},
   "source": [
    "#### Load dataset"
   ]
  },
  {
   "cell_type": "code",
   "execution_count": null,
   "metadata": {},
   "outputs": [],
   "source": [
    "!wget https://www.dropbox.com/s/d61lupw909hc785/dogs_vs_cats.train.zip?dl=1 -O data.zip\n",
    "!unzip data.zip"
   ]
  }
 ],
 "metadata": {
  "kernelspec": {
   "display_name": "Python 3",
   "language": "python",
   "name": "python3"
  },
  "language_info": {
   "codemirror_mode": {
    "name": "ipython",
    "version": 3
   },
   "file_extension": ".py",
   "mimetype": "text/x-python",
   "name": "python",
   "nbconvert_exporter": "python",
   "pygments_lexer": "ipython3",
   "version": "3.6.7"
  }
 },
 "nbformat": 4,
 "nbformat_minor": 2
}
