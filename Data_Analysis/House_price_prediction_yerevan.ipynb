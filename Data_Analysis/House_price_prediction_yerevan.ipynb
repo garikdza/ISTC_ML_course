{
 "cells": [
  {
   "cell_type": "code",
   "execution_count": 191,
   "metadata": {},
   "outputs": [],
   "source": [
    "import pandas as pd\n",
    "import numpy as np\n",
    "import matplotlib.pyplot as plt\n",
    "import seaborn as sns\n",
    "from scipy.stats import shapiro,normaltest,f_oneway\n",
    "# import statsmodels.api as sm\n",
    "from sklearn.ensemble import AdaBoostRegressor\n",
    "from sklearn.preprocessing import StandardScaler\n",
    "from sklearn.model_selection import train_test_split"
   ]
  },
  {
   "cell_type": "code",
   "execution_count": 218,
   "metadata": {},
   "outputs": [],
   "source": [
    "df  = pd.read_csv(\"../../ISTC_ml_courses/DataSets/train.csv\")"
   ]
  },
  {
   "cell_type": "code",
   "execution_count": 219,
   "metadata": {},
   "outputs": [],
   "source": [
    "Y = df[\"price\"]\n",
    "X_df = data.drop([\"price\"],axis=1)\n",
    "    "
   ]
  },
  {
   "cell_type": "code",
   "execution_count": 221,
   "metadata": {},
   "outputs": [],
   "source": [
    "X_train, X_test, y_train, y_test = train_test_split(X_df,Y)"
   ]
  },
  {
   "cell_type": "code",
   "execution_count": 36,
   "metadata": {},
   "outputs": [],
   "source": [
    "cond_good = data[data[\"condition\"] == \"good\"]\n",
    "cond_zero = data[data[\"condition\"] == \"zero condition\"]\n",
    "cond_newly = data[data[\"condition\"] == \"newly repaired\"]"
   ]
  },
  {
   "cell_type": "code",
   "execution_count": 37,
   "metadata": {},
   "outputs": [
    {
     "data": {
      "text/html": [
       "<div>\n",
       "<style scoped>\n",
       "    .dataframe tbody tr th:only-of-type {\n",
       "        vertical-align: middle;\n",
       "    }\n",
       "\n",
       "    .dataframe tbody tr th {\n",
       "        vertical-align: top;\n",
       "    }\n",
       "\n",
       "    .dataframe thead th {\n",
       "        text-align: right;\n",
       "    }\n",
       "</style>\n",
       "<table border=\"1\" class=\"dataframe\">\n",
       "  <thead>\n",
       "    <tr style=\"text-align: right;\">\n",
       "      <th></th>\n",
       "      <th>ID</th>\n",
       "      <th>price</th>\n",
       "      <th>condition</th>\n",
       "      <th>district</th>\n",
       "      <th>max_floor</th>\n",
       "      <th>street</th>\n",
       "      <th>num_rooms</th>\n",
       "      <th>region</th>\n",
       "      <th>area</th>\n",
       "      <th>url</th>\n",
       "      <th>num_bathrooms</th>\n",
       "      <th>building_type</th>\n",
       "      <th>floor</th>\n",
       "      <th>ceiling_height</th>\n",
       "      <th>log_price</th>\n",
       "    </tr>\n",
       "  </thead>\n",
       "  <tbody>\n",
       "    <tr>\n",
       "      <th>0</th>\n",
       "      <td>1719</td>\n",
       "      <td>72000.0</td>\n",
       "      <td>newly repaired</td>\n",
       "      <td>Center</td>\n",
       "      <td>11</td>\n",
       "      <td>Tsitsernakaberd Highway</td>\n",
       "      <td>2</td>\n",
       "      <td>Yerevan</td>\n",
       "      <td>67.0</td>\n",
       "      <td>http://www.myrealty.am/en/item/35137/2-senyaka...</td>\n",
       "      <td>1</td>\n",
       "      <td>other</td>\n",
       "      <td>9</td>\n",
       "      <td>3.0</td>\n",
       "      <td>11.184421</td>\n",
       "    </tr>\n",
       "    <tr>\n",
       "      <th>1</th>\n",
       "      <td>2817</td>\n",
       "      <td>80000.0</td>\n",
       "      <td>newly repaired</td>\n",
       "      <td>Arabkir</td>\n",
       "      <td>5</td>\n",
       "      <td>Komitas Ave</td>\n",
       "      <td>3</td>\n",
       "      <td>Yerevan</td>\n",
       "      <td>75.0</td>\n",
       "      <td>http://www.myrealty.am/en/item/17923/3-senyaka...</td>\n",
       "      <td>1</td>\n",
       "      <td>stone</td>\n",
       "      <td>2</td>\n",
       "      <td>3.2</td>\n",
       "      <td>11.289782</td>\n",
       "    </tr>\n",
       "    <tr>\n",
       "      <th>2</th>\n",
       "      <td>6710</td>\n",
       "      <td>204000.0</td>\n",
       "      <td>newly repaired</td>\n",
       "      <td>Center</td>\n",
       "      <td>4</td>\n",
       "      <td>Saryan St</td>\n",
       "      <td>4</td>\n",
       "      <td>Yerevan</td>\n",
       "      <td>140.0</td>\n",
       "      <td>http://www.myrealty.am/en/item/38137/4-senyaka...</td>\n",
       "      <td>2</td>\n",
       "      <td>stone</td>\n",
       "      <td>4</td>\n",
       "      <td>2.8</td>\n",
       "      <td>12.225875</td>\n",
       "    </tr>\n",
       "    <tr>\n",
       "      <th>3</th>\n",
       "      <td>5749</td>\n",
       "      <td>68000.0</td>\n",
       "      <td>good</td>\n",
       "      <td>Arabkir</td>\n",
       "      <td>5</td>\n",
       "      <td>Aghbyur Serob St</td>\n",
       "      <td>3</td>\n",
       "      <td>Yerevan</td>\n",
       "      <td>79.0</td>\n",
       "      <td>http://www.myrealty.am/en/item/31450/3-senyaka...</td>\n",
       "      <td>1</td>\n",
       "      <td>stone</td>\n",
       "      <td>3</td>\n",
       "      <td>2.8</td>\n",
       "      <td>11.127263</td>\n",
       "    </tr>\n",
       "    <tr>\n",
       "      <th>4</th>\n",
       "      <td>4747</td>\n",
       "      <td>39000.0</td>\n",
       "      <td>newly repaired</td>\n",
       "      <td>Erebuni</td>\n",
       "      <td>9</td>\n",
       "      <td>Rostovyan St</td>\n",
       "      <td>1</td>\n",
       "      <td>Yerevan</td>\n",
       "      <td>45.0</td>\n",
       "      <td>http://www.myrealty.am/en/item/35365/1-senyaka...</td>\n",
       "      <td>1</td>\n",
       "      <td>panel</td>\n",
       "      <td>2</td>\n",
       "      <td>2.8</td>\n",
       "      <td>10.571317</td>\n",
       "    </tr>\n",
       "  </tbody>\n",
       "</table>\n",
       "</div>"
      ],
      "text/plain": [
       "     ID     price       condition district  max_floor  \\\n",
       "0  1719   72000.0  newly repaired   Center         11   \n",
       "1  2817   80000.0  newly repaired  Arabkir          5   \n",
       "2  6710  204000.0  newly repaired   Center          4   \n",
       "3  5749   68000.0            good  Arabkir          5   \n",
       "4  4747   39000.0  newly repaired  Erebuni          9   \n",
       "\n",
       "                    street  num_rooms   region   area  \\\n",
       "0  Tsitsernakaberd Highway          2  Yerevan   67.0   \n",
       "1              Komitas Ave          3  Yerevan   75.0   \n",
       "2                Saryan St          4  Yerevan  140.0   \n",
       "3         Aghbyur Serob St          3  Yerevan   79.0   \n",
       "4             Rostovyan St          1  Yerevan   45.0   \n",
       "\n",
       "                                                 url  num_bathrooms  \\\n",
       "0  http://www.myrealty.am/en/item/35137/2-senyaka...              1   \n",
       "1  http://www.myrealty.am/en/item/17923/3-senyaka...              1   \n",
       "2  http://www.myrealty.am/en/item/38137/4-senyaka...              2   \n",
       "3  http://www.myrealty.am/en/item/31450/3-senyaka...              1   \n",
       "4  http://www.myrealty.am/en/item/35365/1-senyaka...              1   \n",
       "\n",
       "  building_type  floor  ceiling_height  log_price  \n",
       "0         other      9             3.0  11.184421  \n",
       "1         stone      2             3.2  11.289782  \n",
       "2         stone      4             2.8  12.225875  \n",
       "3         stone      3             2.8  11.127263  \n",
       "4         panel      2             2.8  10.571317  "
      ]
     },
     "execution_count": 37,
     "metadata": {},
     "output_type": "execute_result"
    }
   ],
   "source": [
    "data.head()"
   ]
  },
  {
   "cell_type": "code",
   "execution_count": 108,
   "metadata": {},
   "outputs": [],
   "source": [
    "from sklearn.ensemble import RandomForestRegressor"
   ]
  },
  {
   "cell_type": "code",
   "execution_count": 52,
   "metadata": {},
   "outputs": [],
   "source": [
    "def categorical_col_analysis(df,col):\n",
    "\n",
    "    # Categories and appearances\n",
    "    values_dict = df[col].value_counts().to_dict()\n",
    "    print(\"Column value counts\")\n",
    "    print(df[col].value_counts(),\"\\n\")\n",
    "    labels = []\n",
    "    values = []\n",
    "    for key, value in values_dict.items():\n",
    "        labels.append(key)\n",
    "        values.append(value)\n",
    "\n",
    "    # Pieplot and barplot\n",
    "    plt.figure(figsize=(12, 4))\n",
    "\n",
    "    plt.subplot(121)\n",
    "    plt.title(\"Pieplot of {0}\".format(col))\n",
    "    plt.pie(values, labels=labels, autopct='%1.1f%%')\n",
    "    plt.subplot(122)\n",
    "    sns.barplot(x=labels, y=values).set_title(\"Barplot of {0}\".format(col))\n",
    "    plt.subplots_adjust(wspace=1)\n",
    "    plt.show()\n",
    "    print('======================================================================')\n",
    "    \n",
    "def cat_num(df, cat_col, num_col):\n",
    "\n",
    "    labels = df[cat_col].unique()\n",
    "    print(num_col + ' dependence on', cat_col)\n",
    "    for label in labels:\n",
    "        print('\\nLabel: ', label, '\\n')\n",
    "        print(df[num_col][df[cat_col] == label].describe())\n",
    "\n",
    "    values = pd.concat([df[num_col], df[cat_col]], axis=1)\n",
    "    fig = sns.boxplot(x=cat_col, y=num_col, data=values)\n",
    "    plt.show()\n",
    "    print('======================================================================')\n",
    "\n",
    "\n",
    "def normality_test(df:pd.core.frame.DataFrame, col:str, alpha=0.05):\n",
    "\n",
    "    # print col describe\n",
    "    print(\"Column info\",\"\\n\")\n",
    "    print(df[col].describe(),\"\\n\")\n",
    "    # drop nans and duplicates\n",
    "    df = df[df[col].notna()]\n",
    "    column = df[col].drop_duplicates()\n",
    "    # dist plot and qqplot\n",
    "    print('Skewness: ', df[col].skew())\n",
    "    print('Kurtosis: ', df[col].kurt(), '\\n\\n')\n",
    "    # plot col distplot\n",
    "    sns.distplot(column).set_title(\"DistPlot for {0}\".format(col))\n",
    "    plt.show()\n",
    "    # qq plot\n",
    "#     sm.qqplot(column, line='45', fit=True)\n",
    "#     plt.title('Q-Q plot for {0}'.format(col))\n",
    "#     plt.show()\n",
    "    # Shapiro-Wilk test\n",
    "    print('Shapiro-Wilk Test')\n",
    "    stat, p = shapiro(column)\n",
    "    if p > alpha:\n",
    "        print('Accept Ho: Distribution over ' + col + ' is normal (alpha = 5%)')\n",
    "    else:\n",
    "        print('Reject Ho: Distribution over ' + col + ' is not normal (alpha = 5%)')\n",
    "    print('P_value: ', p,'\\n')\n",
    "\n",
    "    # D’Agostino’s K^2 Test (tests Skewness and Kurtosis)\n",
    "    print('D’Agostino’s Test')\n",
    "    stat, p = normaltest(column)\n",
    "    if p > alpha:\n",
    "        print('Accept Ho: Distribution over ' + col + ' is normal (alpha = 5%)')\n",
    "    else:\n",
    "        print('Reject Ho: Distribution over ' + col + ' is not normal (alpha = 5%)')\n",
    "\n",
    "    print('P_value: ', p, '\\n')\n",
    "    print('======================================================================')\n",
    "    \n",
    "def anova_test(data1, data2, data3, alpha=0.05):\n",
    "\n",
    "    # anova test (equal means)\n",
    "\n",
    "    print(\"{0} sample size: {1}, mean {2}\".format(\"first_samples\", data1.shape[0], np.mean(data1)))\n",
    "    print(\"{0} sample size: {1}, mean {2}\".format(\"second_samples\", data2.shape[0], np.mean(data2)))\n",
    "    print(\"{0} sample size: {1}, mean {2}\".format(\"thired_samples\", data3.shape[0], np.mean(data3)))\n",
    "    print(\"\\n\")\n",
    "\n",
    "    print('ANOVA test')\n",
    "    stat, p = f_oneway(data1, data2, data3)\n",
    "\n",
    "    if p > alpha:\n",
    "        print('Accept Ho: All input samples are from populations with equal means (alpha = 5%)')\n",
    "    else:\n",
    "        print('Reject Ho: All input samples are not from populations with equal means (alpha = 5%)')\n",
    "    print('\\n')\n",
    "    print('======================================================================')"
   ]
  },
  {
   "cell_type": "code",
   "execution_count": 53,
   "metadata": {},
   "outputs": [
    {
     "name": "stdout",
     "output_type": "stream",
     "text": [
      "Column info \n",
      "\n",
      "count      4176.000000\n",
      "mean      86346.310584\n",
      "std       53391.806827\n",
      "min       18500.000000\n",
      "25%       50000.000000\n",
      "50%       70000.000000\n",
      "75%      107000.000000\n",
      "max      550000.000000\n",
      "Name: price, dtype: float64 \n",
      "\n",
      "Skewness:  2.0453375220616055\n",
      "Kurtosis:  6.36537692873639 \n",
      "\n",
      "\n"
     ]
    },
    {
     "data": {
      "image/png": "[encoded data removed]",
      "text/plain": [
       "<Figure size 432x288 with 1 Axes>"
      ]
     },
     "metadata": {
      "needs_background": "light"
     },
     "output_type": "display_data"
    },
    {
     "name": "stdout",
     "output_type": "stream",
     "text": [
      "Shapiro-Wilk Test\n",
      "Reject Ho: Distribution over price is not normal (alpha = 5%)\n",
      "P_value:  5.812680882471381e-17 \n",
      "\n",
      "D’Agostino’s Test\n",
      "Reject Ho: Distribution over price is not normal (alpha = 5%)\n",
      "P_value:  1.8375145153985132e-23 \n",
      "\n",
      "======================================================================\n"
     ]
    }
   ],
   "source": [
    "normality_test(data,\"price\")"
   ]
  },
  {
   "cell_type": "code",
   "execution_count": 54,
   "metadata": {},
   "outputs": [
    {
     "name": "stdout",
     "output_type": "stream",
     "text": [
      "Column info \n",
      "\n",
      "count    4176.000000\n",
      "mean       11.217744\n",
      "std         0.524475\n",
      "min         9.825526\n",
      "25%        10.819778\n",
      "50%        11.156251\n",
      "75%        11.580584\n",
      "max        13.217674\n",
      "Name: log_price, dtype: float64 \n",
      "\n",
      "Skewness:  0.5055383627100656\n",
      "Kurtosis:  -0.2541427061703012 \n",
      "\n",
      "\n"
     ]
    },
    {
     "data": {
      "image/png": "[encoded data removed]",
      "text/plain": [
       "<Figure size 432x288 with 1 Axes>"
      ]
     },
     "metadata": {
      "needs_background": "light"
     },
     "output_type": "display_data"
    },
    {
     "name": "stdout",
     "output_type": "stream",
     "text": [
      "Shapiro-Wilk Test\n",
      "Reject Ho: Distribution over log_price is not normal (alpha = 5%)\n",
      "P_value:  0.00025471122353337705 \n",
      "\n",
      "D’Agostino’s Test\n",
      "Reject Ho: Distribution over log_price is not normal (alpha = 5%)\n",
      "P_value:  9.408394110135047e-07 \n",
      "\n",
      "======================================================================\n"
     ]
    }
   ],
   "source": [
    "data[\"log_price\"] = np.log(data[\"price\"])\n",
    "normality_test(data,\"log_price\")"
   ]
  },
  {
   "cell_type": "code",
   "execution_count": 55,
   "metadata": {},
   "outputs": [
    {
     "name": "stdout",
     "output_type": "stream",
     "text": [
      "Column info \n",
      "\n",
      "count    4176.000000\n",
      "mean       81.682471\n",
      "std        24.953576\n",
      "min        27.000000\n",
      "25%        65.000000\n",
      "50%        80.000000\n",
      "75%        98.000000\n",
      "max       149.000000\n",
      "Name: area, dtype: float64 \n",
      "\n",
      "Skewness:  0.32650133175420865\n",
      "Kurtosis:  -0.2738865940791828 \n",
      "\n",
      "\n"
     ]
    },
    {
     "data": {
      "image/png": "[encoded data removed]",
      "text/plain": [
       "<Figure size 432x288 with 1 Axes>"
      ]
     },
     "metadata": {
      "needs_background": "light"
     },
     "output_type": "display_data"
    },
    {
     "name": "stdout",
     "output_type": "stream",
     "text": [
      "Shapiro-Wilk Test\n",
      "Reject Ho: Distribution over area is not normal (alpha = 5%)\n",
      "P_value:  0.0004890558193437755 \n",
      "\n",
      "D’Agostino’s Test\n",
      "Reject Ho: Distribution over area is not normal (alpha = 5%)\n",
      "P_value:  2.326431691703078e-10 \n",
      "\n",
      "======================================================================\n"
     ]
    }
   ],
   "source": [
    "normality_test(data,\"area\")"
   ]
  },
  {
   "cell_type": "code",
   "execution_count": 62,
   "metadata": {},
   "outputs": [
    {
     "data": {
      "text/plain": [
       "1    3536\n",
       "2     597\n",
       "3      39\n",
       "4       4\n",
       "Name: num_bathrooms, dtype: int64"
      ]
     },
     "execution_count": 62,
     "metadata": {},
     "output_type": "execute_result"
    }
   ],
   "source": [
    "data[\"num_bathrooms\"].value_counts()"
   ]
  },
  {
   "cell_type": "code",
   "execution_count": 70,
   "metadata": {},
   "outputs": [
    {
     "name": "stdout",
     "output_type": "stream",
     "text": [
      "mean for all data: 86346.31058429119\n",
      "mean for 2 bath: 140794.8040201005\n",
      "mean for 3 bath: 163361.53846153847\n",
      "mean for 4 bath: 183250.0\n"
     ]
    }
   ],
   "source": [
    "print(\"mean for all data:\",data[\"price\"].mean())\n",
    "print(\"mean for 2 bath:\",data[data[\"num_bathrooms\"] == 2][\"price\"].mean())\n",
    "print(\"mean for 3 bath:\",data[data[\"num_bathrooms\"] == 3][\"price\"].mean())\n",
    "print(\"mean for 4 bath:\",data[data[\"num_bathrooms\"] == 4][\"price\"].mean())\n"
   ]
  },
  {
   "cell_type": "code",
   "execution_count": 56,
   "metadata": {
    "scrolled": false
   },
   "outputs": [
    {
     "name": "stdout",
     "output_type": "stream",
     "text": [
      "Column value counts\n",
      "newly repaired    2404\n",
      "good              1426\n",
      "zero condition     346\n",
      "Name: condition, dtype: int64 \n",
      "\n"
     ]
    },
    {
     "data": {
      "image/png": "[encoded data removed]",
      "text/plain": [
       "<Figure size 864x288 with 2 Axes>"
      ]
     },
     "metadata": {
      "needs_background": "light"
     },
     "output_type": "display_data"
    },
    {
     "name": "stdout",
     "output_type": "stream",
     "text": [
      "======================================================================\n"
     ]
    }
   ],
   "source": [
    "categorical_col_analysis(df=data,col=\"condition\")"
   ]
  },
  {
   "cell_type": "code",
   "execution_count": 59,
   "metadata": {},
   "outputs": [
    {
     "name": "stdout",
     "output_type": "stream",
     "text": [
      "Column value counts\n",
      "stone      1557\n",
      "panel      1320\n",
      "monolit     925\n",
      "other       374\n",
      "Name: building_type, dtype: int64 \n",
      "\n"
     ]
    },
    {
     "data": {
      "image/png": "[encoded data removed]",
      "text/plain": [
       "<Figure size 864x288 with 2 Axes>"
      ]
     },
     "metadata": {
      "needs_background": "light"
     },
     "output_type": "display_data"
    },
    {
     "name": "stdout",
     "output_type": "stream",
     "text": [
      "======================================================================\n"
     ]
    }
   ],
   "source": [
    "categorical_col_analysis(data,\"building_type\")"
   ]
  },
  {
   "cell_type": "code",
   "execution_count": 57,
   "metadata": {
    "scrolled": false
   },
   "outputs": [
    {
     "name": "stdout",
     "output_type": "stream",
     "text": [
      "price dependence on condition\n",
      "\n",
      "Label:  newly repaired \n",
      "\n",
      "count      2404.000000\n",
      "mean      95580.098170\n",
      "std       57234.785403\n",
      "min       25000.000000\n",
      "25%       57000.000000\n",
      "50%       79000.000000\n",
      "75%      119250.000000\n",
      "max      550000.000000\n",
      "Name: price, dtype: float64\n",
      "\n",
      "Label:  good \n",
      "\n",
      "count      1426.000000\n",
      "mean      69328.532258\n",
      "std       40688.047532\n",
      "min       18500.000000\n",
      "25%       43000.000000\n",
      "50%       56000.000000\n",
      "75%       80000.000000\n",
      "max      340000.000000\n",
      "Name: price, dtype: float64\n",
      "\n",
      "Label:  zero condition \n",
      "\n",
      "count       346.000000\n",
      "mean      92327.023121\n",
      "std       54914.337502\n",
      "min       26000.000000\n",
      "25%       54000.000000\n",
      "50%       77000.000000\n",
      "75%      115375.000000\n",
      "max      360000.000000\n",
      "Name: price, dtype: float64\n"
     ]
    },
    {
     "data": {
      "image/png": "[encoded data removed]",
      "text/plain": [
       "<Figure size 432x288 with 1 Axes>"
      ]
     },
     "metadata": {
      "needs_background": "light"
     },
     "output_type": "display_data"
    },
    {
     "name": "stdout",
     "output_type": "stream",
     "text": [
      "======================================================================\n"
     ]
    }
   ],
   "source": [
    "cat_num(df=data,cat_col=\"condition\",num_col=\"price\")"
   ]
  },
  {
   "cell_type": "code",
   "execution_count": 58,
   "metadata": {},
   "outputs": [
    {
     "name": "stdout",
     "output_type": "stream",
     "text": [
      "first_samples sample size: 1426, mean 69328.53225806452\n",
      "second_samples sample size: 2404, mean 95580.09816971714\n",
      "thired_samples sample size: 346, mean 92327.02312138729\n",
      "\n",
      "\n",
      "ANOVA test\n",
      "Reject Ho: All input samples are not from populations with equal means (alpha = 5%)\n",
      "\n",
      "\n",
      "======================================================================\n"
     ]
    }
   ],
   "source": [
    "anova_test(cond_good[\"price\"],cond_newly[\"price\"],cond_zero[\"price\"])"
   ]
  },
  {
   "cell_type": "code",
   "execution_count": 48,
   "metadata": {},
   "outputs": [],
   "source": [
    "def classification_with_cat(df, num_col1, num_col2, cat_col):\n",
    "\n",
    "\n",
    "    unique_categorical = df[cat_col].unique()\n",
    "    sccaters = []\n",
    "\n",
    "    for i,val in enumerate(unique_categorical):\n",
    "        x_part = df[num_col1][df[cat_col] == val]\n",
    "        y_part = df[num_col2][df[cat_col] == val]\n",
    "        sccaters.append(plt.scatter(x=x_part, y=y_part))\n",
    "\n",
    "    plt.legend(sccaters, unique_categorical)\n",
    "    plt.xlabel(num_col1)\n",
    "    plt.ylabel(num_col2)\n",
    "    plt.show()"
   ]
  },
  {
   "cell_type": "code",
   "execution_count": 49,
   "metadata": {},
   "outputs": [
    {
     "data": {
      "image/png": "[encoded data removed]",
      "text/plain": [
       "<Figure size 432x288 with 1 Axes>"
      ]
     },
     "metadata": {
      "needs_background": "light"
     },
     "output_type": "display_data"
    }
   ],
   "source": [
    "classification_with_cat(df=data,num_col1=\"price\",num_col2=\"area\",cat_col=\"condition\")"
   ]
  },
  {
   "cell_type": "code",
   "execution_count": 73,
   "metadata": {},
   "outputs": [
    {
     "data": {
      "text/plain": [
       "Index(['ID', 'price', 'condition', 'district', 'max_floor', 'street',\n",
       "       'num_rooms', 'region', 'area', 'url', 'num_bathrooms', 'building_type',\n",
       "       'floor', 'ceiling_height', 'log_price'],\n",
       "      dtype='object')"
      ]
     },
     "execution_count": 73,
     "metadata": {},
     "output_type": "execute_result"
    }
   ],
   "source": [
    "data.columns"
   ]
  },
  {
   "cell_type": "code",
   "execution_count": 222,
   "metadata": {},
   "outputs": [
    {
     "name": "stderr",
     "output_type": "stream",
     "text": [
      "/root/environments/my_env/lib/python3.6/site-packages/ipykernel_launcher.py:1: SettingWithCopyWarning: \n",
      "A value is trying to be set on a copy of a slice from a DataFrame.\n",
      "Try using .loc[row_indexer,col_indexer] = value instead\n",
      "\n",
      "See the caveats in the documentation: http://pandas.pydata.org/pandas-docs/stable/indexing.html#indexing-view-versus-copy\n",
      "  \"\"\"Entry point for launching an IPython kernel.\n"
     ]
    }
   ],
   "source": [
    "X_train[\"floor/max\"] = X_train[\"floor\"]/X_train[\"max_floor\"]\n",
    "cond_get_dummies = pd.get_dummies(X_train[\"condition\"])\n",
    "district_get_dummies = pd.get_dummies(X_train[\"district\"])"
   ]
  },
  {
   "cell_type": "code",
   "execution_count": 223,
   "metadata": {},
   "outputs": [],
   "source": [
    "X = pd.concat((X_train[[\"area\",\"floor/max\"]],cond_get_dummies,district_get_dummies),axis=1)\n",
    "# X = data[[\"area\",\"floor/max\"]] \n",
    "y = y_train\n",
    "std_scal = StandardScaler()\n",
    "std_scal.fit(X)\n",
    "X = std_scal.transform(X)\n",
    "std_scal.fit(y.values.reshape(-1,1))\n",
    "y = std_scal.transform(y.values.reshape(-1,1))"
   ]
  },
  {
   "cell_type": "code",
   "execution_count": 224,
   "metadata": {},
   "outputs": [
    {
     "name": "stderr",
     "output_type": "stream",
     "text": [
      "/root/environments/my_env/lib/python3.6/site-packages/sklearn/ensemble/forest.py:245: FutureWarning: The default value of n_estimators will change from 10 in version 0.20 to 100 in 0.22.\n",
      "  \"10 in version 0.20 to 100 in 0.22.\", FutureWarning)\n",
      "/root/environments/my_env/lib/python3.6/site-packages/ipykernel_launcher.py:2: DataConversionWarning: A column-vector y was passed when a 1d array was expected. Please change the shape of y to (n_samples,), for example using ravel().\n",
      "  \n"
     ]
    },
    {
     "data": {
      "text/plain": [
       "RandomForestRegressor(bootstrap=True, criterion='mse', max_depth=None,\n",
       "                      max_features='auto', max_leaf_nodes=None,\n",
       "                      min_impurity_decrease=0.0, min_impurity_split=None,\n",
       "                      min_samples_leaf=1, min_samples_split=2,\n",
       "                      min_weight_fraction_leaf=0.0, n_estimators=10,\n",
       "                      n_jobs=None, oob_score=False, random_state=None,\n",
       "                      verbose=0, warm_start=False)"
      ]
     },
     "execution_count": 224,
     "metadata": {},
     "output_type": "execute_result"
    }
   ],
   "source": [
    "rf = RandomForestRegressor()\n",
    "rf.fit(X,y)"
   ]
  },
  {
   "cell_type": "code",
   "execution_count": 225,
   "metadata": {},
   "outputs": [
    {
     "data": {
      "text/plain": [
       "0.9171329312512295"
      ]
     },
     "execution_count": 225,
     "metadata": {},
     "output_type": "execute_result"
    }
   ],
   "source": [
    "rf.score(X,y)"
   ]
  },
  {
   "cell_type": "code",
   "execution_count": 209,
   "metadata": {},
   "outputs": [
    {
     "data": {
      "text/plain": [
       "array([5.84190704e-01, 1.60119614e-01, 1.14900509e-02, 3.37240646e-02,\n",
       "       4.78014475e-03, 7.13126659e-04, 2.80516797e-02, 1.47042040e-03,\n",
       "       1.66475707e-01, 3.21182850e-03, 3.08359340e-04, 1.15499077e-03,\n",
       "       8.89391723e-04, 1.67146530e-03, 1.15546731e-03, 4.68151617e-04,\n",
       "       1.24834216e-04])"
      ]
     },
     "execution_count": 209,
     "metadata": {},
     "output_type": "execute_result"
    }
   ],
   "source": [
    "rf.feature_importances_"
   ]
  },
  {
   "cell_type": "code",
   "execution_count": 214,
   "metadata": {},
   "outputs": [
    {
     "data": {
      "text/plain": [
       "(1044, 16)"
      ]
     },
     "execution_count": 214,
     "metadata": {},
     "output_type": "execute_result"
    }
   ],
   "source": [
    "X.shape"
   ]
  },
  {
   "cell_type": "code",
   "execution_count": 228,
   "metadata": {},
   "outputs": [
    {
     "name": "stderr",
     "output_type": "stream",
     "text": [
      "/root/environments/my_env/lib/python3.6/site-packages/ipykernel_launcher.py:3: SettingWithCopyWarning: \n",
      "A value is trying to be set on a copy of a slice from a DataFrame.\n",
      "Try using .loc[row_indexer,col_indexer] = value instead\n",
      "\n",
      "See the caveats in the documentation: http://pandas.pydata.org/pandas-docs/stable/indexing.html#indexing-view-versus-copy\n",
      "  This is separate from the ipykernel package so we can avoid doing imports until\n"
     ]
    },
    {
     "data": {
      "text/plain": [
       "0.7011869158245279"
      ]
     },
     "execution_count": 228,
     "metadata": {},
     "output_type": "execute_result"
    }
   ],
   "source": [
    "cond_get_dummies = pd.get_dummies(X_test[\"condition\"])\n",
    "district_get_dummies = pd.get_dummies(X_test[\"district\"])\n",
    "X_test[\"floor/max\"] = X_test[\"floor\"]/X_test[\"max_floor\"]\n",
    "X = pd.concat((X_test[[\"area\",\"floor/max\"]],cond_get_dummies,district_get_dummies),axis=1)\n",
    "y = y_test\n",
    "std_scal = StandardScaler()\n",
    "std_scal.fit(X)\n",
    "X = std_scal.transform(X)\n",
    "std_scal.fit(y.values.reshape(-1,1))\n",
    "y = std_scal.transform(y.values.reshape(-1,1))\n",
    "pred = rf.predict(X)\n",
    "rf.score(X,y)"
   ]
  },
  {
   "cell_type": "code",
   "execution_count": null,
   "metadata": {},
   "outputs": [],
   "source": []
  }
 ],
 "metadata": {
  "kernelspec": {
   "display_name": "Python 3",
   "language": "python",
   "name": "python3"
  },
  "language_info": {
   "codemirror_mode": {
    "name": "ipython",
    "version": 3
   },
   "file_extension": ".py",
   "mimetype": "text/x-python",
   "name": "python",
   "nbconvert_exporter": "python",
   "pygments_lexer": "ipython3",
   "version": "3.6.7"
  }
 },
 "nbformat": 4,
 "nbformat_minor": 2
}
