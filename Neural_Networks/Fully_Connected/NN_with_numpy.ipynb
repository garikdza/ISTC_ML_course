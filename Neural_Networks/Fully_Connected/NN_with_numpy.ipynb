{
 "cells": [
  {
   "cell_type": "code",
   "execution_count": 1,
   "metadata": {},
   "outputs": [],
   "source": [
    "import numpy as np\n",
    "import mnist\n",
    "import matplotlib.pyplot as plt\n",
    "from sklearn.metrics import classification_report\n"
   ]
  },
  {
   "cell_type": "code",
   "execution_count": 2,
   "metadata": {},
   "outputs": [],
   "source": [
    "x_train, y_train, x_test, y_test = mnist.load()\n",
    "nb_classes = 10\n",
    "y_train_one_hote = np.eye(nb_classes)[y_train]\n",
    "y_test_one_hote = np.eye(nb_classes)[y_test]\n",
    "x_train = x_train/255.0\n",
    "x_test = x_test/255.0"
   ]
  },
  {
   "cell_type": "code",
   "execution_count": 10,
   "metadata": {},
   "outputs": [],
   "source": [
    "def sigmoid(z):\n",
    "    return 1/(1+np.exp(-z))\n",
    "\n",
    "def sigmoid_der(z):\n",
    "    sig = sigmoid(z)\n",
    "    return sig * (1 - sig)\n",
    "\n",
    "def relu(z):\n",
    "    return np.maximum(0,z)\n",
    "\n",
    "def relu_der(x):\n",
    "    x[x<=0] = 0\n",
    "    x[x>0] = 1\n",
    "    return x\n",
    "    \n",
    "def softmax(z):  \n",
    "    expZ = np.exp(z)\n",
    "    return expZ / expZ.sum()\n",
    "\n",
    "\n",
    "\n",
    "def print_architecture(kwargs):\n",
    "    sizes = [kwargs[\"input_x_shape\"]]\n",
    "    sizes.extend(kwargs[\"num_units\"])\n",
    "\n",
    "    for i in range(kwargs[\"num_layers\"]):\n",
    "        print(\"Dense_{0}---num_units = {1}, activation = {2}\".format(i,kwargs[\"num_units\"][i],kwargs[\"activations\"][i]))\n",
    "        print(\"\\n\")\n",
    "        "
   ]
  },
  {
   "cell_type": "code",
   "execution_count": 11,
   "metadata": {},
   "outputs": [],
   "source": [
    "class Network():\n",
    "    \n",
    "    def __init__(self,**kwargs):\n",
    "        self.input_shape = kwargs[\"input_x_shape\"]\n",
    "        self.num_layers = kwargs[\"num_layers\"]\n",
    "        \n",
    "        if len(kwargs[\"num_units\"]) != self.num_layers:\n",
    "            raise ValueError\n",
    "        else:\n",
    "            self.num_units = kwargs[\"num_units\"]\n",
    "            \n",
    "        self.W = self.init_weights(kwargs[\"weights_init_method\"])\n",
    "        self.B = self.init_biases()\n",
    "        self.activations = self.set_activations(kwargs[\"activations\"])\n",
    "        \n",
    "        print_architecture(kwargs)\n",
    "        \n",
    "        self.train_loss_history = []\n",
    "        self.test_loss_history = []\n",
    "        self.train_acc_history = []\n",
    "        self.test_acc_history = []\n",
    "\n",
    "\n",
    "    def init_weights(self,method):\n",
    "        np.random.seed(1)\n",
    "        sizes = [self.input_shape]\n",
    "        sizes.extend(self.num_units)\n",
    "        W = []\n",
    "        \n",
    "        if method == \"zeros\":\n",
    "            for i in range(1,len(sizes)):\n",
    "                W.append(np.zeros((sizes[i],sizes[i-1])))\n",
    "                \n",
    "        elif method == \"random\":\n",
    "            for i in range(1,len(sizes)):\n",
    "                W.append(np.random.randn(sizes[i],sizes[i-1])/sizes[i-1])\n",
    "        return W\n",
    "    \n",
    "    def init_biases(self):\n",
    "        sizes = [self.input_shape]\n",
    "        sizes.extend(self.num_units)\n",
    "        B = []\n",
    "        for i in range(1,len(sizes)):\n",
    "            B.append(np.zeros((sizes[i],1)))\n",
    "            \n",
    "        return B\n",
    "    \n",
    "    def set_activations(self,activ_names):\n",
    "        activations = []\n",
    "        for name in activ_names:\n",
    "            if name == \"sigmoid\":\n",
    "                activations.append(sigmoid)\n",
    "            elif name == \"relu\":\n",
    "                activations.append(relu)\n",
    "            elif name == \"softmax\":\n",
    "                activations.append(softmax)\n",
    "            else:\n",
    "                raise ValueError\n",
    "                \n",
    "        return activations\n",
    "\n",
    "    def delta_cross_entropy(self,A_L,A_L_1,y):  \n",
    "        nabla_c_w = np.dot(A_L - y,A_L_1.T)\n",
    "        nabla_c_b = np.sum((A_L - y),axis = 1,keepdims = True) \n",
    "        return nabla_c_w, nabla_c_b\n",
    "        \n",
    "    def generate_mini_batch(self,X,Y,batch_size):\n",
    "        idx = np.random.randint(low = 0, high = X.shape[0],size = batch_size)\n",
    "        return X[idx].T, Y[idx].T\n",
    "    \n",
    "    def forward(self,x):\n",
    "        Z_history = []\n",
    "        A_history = []\n",
    "        \n",
    "        A = x\n",
    "        A_history.append(A)\n",
    "        for i in range(self.num_layers):\n",
    "            Z = np.dot(self.W[i],A) + self.B[i]\n",
    "            A = self.activations[i](Z)\n",
    "            Z_history.append(Z)\n",
    "            A_history.append(A)\n",
    "            \n",
    "        return Z_history,A_history\n",
    "    \n",
    "\n",
    "    def back_prop(self, X, Y, A_history,Z_history):\n",
    " \n",
    "        nabla_w = [np.zeros(w.shape) for w in self.W]\n",
    "        nabla_b = [np.zeros(b.shape) for b in self.B] \n",
    "        \n",
    "        A_L = A_history[-1]\n",
    "        \n",
    "        delta = A_L - Y\n",
    "        dW = delta.dot(A_history[-2].T) \n",
    "        db = delta\n",
    "\n",
    "        nabla_w[-1] = dW\n",
    "        nabla_b[-1] = db\n",
    "        \n",
    "        for l in range(2,self.num_layers+1):\n",
    "            delta = np.dot(self.W[-l+1].T,delta) * sigmoid_der(Z_history[-l])\n",
    "            delta_nabla_w = np.dot(delta,A_history[-l-1].T)\n",
    "            nabla_w[-l] = delta_nabla_w\n",
    "            nabla_b[-l] = delta\n",
    "        return nabla_w,nabla_b\n",
    "    \n",
    "\n",
    "        \n",
    "    def get_batch_gradients(self,batch,y_true,batch_size):\n",
    "        \n",
    "        nabla_w = [np.zeros(w.shape) for w in self.W]\n",
    "        nabla_b = [np.zeros(b.shape) for b in self.B]\n",
    "        \n",
    "        for i in range(batch_size):\n",
    "            x = batch[:,i].reshape(-1,1)\n",
    "            y = y_true[:,i].reshape(-1,1)\n",
    "            \n",
    "            Z_history,A_history = self.forward(x)\n",
    "            \n",
    "            delta_nabla_w,delta_nabla_b = self.back_prop(x, y, A_history, Z_history)\n",
    "            \n",
    "            nabla_w = [(nw+dnw)/batch_size for nw, dnw in zip(nabla_w, delta_nabla_w)]\n",
    "            nabla_b = [(nb+dnb)/batch_size for nb, dnb in zip(nabla_b, delta_nabla_b)]\n",
    "\n",
    "        return nabla_w,nabla_b\n",
    "    \n",
    "    def SGD(self,nabla_w,nabla_b,lr):\n",
    "        \n",
    "        self.W = [w - lr*nbl_w for w,nbl_w in zip(self.W,nabla_w)]\n",
    "        self.B = [b - lr*nbl_b for b,nbl_b in zip(self.B,nabla_b)]\n",
    "    \n",
    "    def fit(self,X_train,Y_train,X_test,Y_test,batch_size,lr,num_epochs,num_steps):\n",
    "        \n",
    "        for epoch in range(num_epochs):\n",
    "            \n",
    "            print(\"=====================EPOCH{0}======================\".format(epoch+1))\n",
    "            \n",
    "            for step in range(num_steps):\n",
    "                \n",
    "                train_batch, y_train_batch = self.generate_mini_batch(X_train,Y_train,batch_size)\n",
    "\n",
    "                nabla_w,nabla_b = self.get_batch_gradients(train_batch,y_train_batch,batch_size)\n",
    "                \n",
    "                self.SGD(nabla_w,nabla_b,lr)\n",
    "                \n",
    "                if step % 100 == 0:\n",
    "                    \n",
    "                    curr_loss_train = []\n",
    "                    curr_loss_test = []\n",
    "\n",
    "                    curr_acc_train = []\n",
    "                    curr_acc_test = []\n",
    "                    \n",
    "                    test_batch, y_test_batch = self.generate_mini_batch(X_test,Y_test,batch_size)\n",
    "                    \n",
    "                    for i in range(test_batch.shape[1]):\n",
    "                        \n",
    "                        x_train = train_batch[:,i].reshape(-1,1)\n",
    "                        y_train = y_train_batch[:,i].reshape(-1,1)\n",
    "\n",
    "                        x_test = test_batch[:,i].reshape(-1,1)\n",
    "                        y_test = y_test_batch[:,i].reshape(-1,1)\n",
    "                        \n",
    "                        \n",
    "                        Z_history_test,A_history_test = self.forward(x_test)\n",
    "                \n",
    "                        curr_loss_test.append(self.cross_entropy(y_test,A_history_test[-1].T.reshape(-1,1)))\n",
    "                        curr_acc_test.append(self.accuracy(y_test,A_history_test[-1].T.reshape(-1,1)))\n",
    "                        \n",
    "                        Z_history,A_history = self.forward(x_train)\n",
    "                        \n",
    "                        curr_loss_train.append(self.cross_entropy(y_train,A_history[-1].T.reshape(-1,1)))\n",
    "                        curr_acc_train.append(self.accuracy(y_train,A_history[-1].T.reshape(-1,1)))\n",
    "\n",
    "                    print(\"Train Loss: \", sum(curr_loss_train)/float(len(curr_loss_train)), \"Train Accuracy:\", sum(curr_acc_train)/float(len(curr_acc_train)))\n",
    "                    print(\"Test Loss:\",sum(curr_loss_test)/float(len(curr_loss_test)), \"Test Accuracy:\", sum(curr_acc_test)/float(len(curr_acc_test)))\n",
    "                    print(\"\\n\")\n",
    "                    \n",
    "                    \n",
    "                if step % 10 == 0:\n",
    "                    self.train_loss_history.append(sum(curr_loss_train)/float(len(curr_loss_train)))\n",
    "                    self.test_loss_history.append(sum(curr_loss_test)/float(len(curr_loss_test)))\n",
    "\n",
    "                    self.train_acc_history.append(sum(curr_acc_train)/float(len(curr_acc_train)))\n",
    "                    self.test_acc_history.append(sum(curr_acc_test)/float(len(curr_acc_test)))\n",
    "\n",
    "\n",
    "    \n",
    "    def predict(self,x):\n",
    "        z,a = self.forward(x.reshape(-1,1))\n",
    "        return a[-1].T\n",
    "        \n",
    "        \n",
    "    def predict_batch(self,batch):\n",
    "        pred = np.zeros((batch.shape[0],self.num_units[-1]))\n",
    "        for i in range(batch.shape[0]):\n",
    "            pred[i] = self.predict(batch[i].reshape(-1,1))\n",
    "        \n",
    "        return pred\n",
    "    \n",
    "    def cross_entropy(self,y,a):\n",
    "        return np.sum(np.nan_to_num(-y*np.log(a)-(1-y)*np.log(1-a)))\n",
    "\n",
    "    \n",
    "    def accuracy(self,Y_true,Y_pred):\n",
    "        Y_pred = np.argmax(Y_pred, axis=0)\n",
    "        Y_true = np.argmax(Y_true, axis=0)\n",
    "\n",
    "        return (Y_pred == Y_true).mean()\n",
    "    \n",
    "    def plot_loss(self):\n",
    "        plt.figure()\n",
    "        plt.title(\"Loss History\")\n",
    "        plt.plot(np.arange(len(self.train_loss_history)), self.train_loss_history)\n",
    "        plt.xlabel(\"epochs\")\n",
    "        plt.ylabel(\"cost\")\n",
    "        plt.plot(np.arange(len(self.test_loss_history)), self.test_loss_history)\n",
    "        plt.legend([\"train\",\"test\"])\n",
    "        plt.show()\n",
    "        \n",
    "    def plot_accuracy(self):\n",
    "        plt.figure()\n",
    "        plt.title(\"Accuracy History\")\n",
    "        plt.plot(np.arange(len(self.train_acc_history)), self.train_acc_history)\n",
    "        plt.xlabel(\"epochs\")\n",
    "        plt.ylabel(\"accuracy\")\n",
    "        plt.plot(np.arange(len(self.test_acc_history)), self.test_acc_history)\n",
    "        plt.legend([\"train\",\"test\"])\n",
    "        plt.show()\n",
    "        \n",
    "    "
   ]
  },
  {
   "cell_type": "code",
   "execution_count": 12,
   "metadata": {},
   "outputs": [],
   "source": [
    "net_architectur = {\n",
    "    \"input_x_shape\":784,\n",
    "    \"num_layers\":2,\n",
    "    \"num_units\":[50,10],\n",
    "    \"activations\":[\"sigmoid\",\"softmax\"],\n",
    "    \"weights_init_method\":\"random\",\n",
    "    \"loss\":\"cross_entropy\",\n",
    "}"
   ]
  },
  {
   "cell_type": "code",
   "execution_count": 13,
   "metadata": {},
   "outputs": [
    {
     "name": "stdout",
     "output_type": "stream",
     "text": [
      "Dense_0---num_units = 50, activation = sigmoid\n",
      "\n",
      "\n",
      "Dense_1---num_units = 10, activation = softmax\n",
      "\n",
      "\n"
     ]
    }
   ],
   "source": [
    "net = Network(**net_architectur)"
   ]
  },
  {
   "cell_type": "code",
   "execution_count": 14,
   "metadata": {
    "scrolled": true
   },
   "outputs": [
    {
     "name": "stdout",
     "output_type": "stream",
     "text": [
      "=====================EPOCH1======================\n",
      "Train Loss:  3.2571578659211236 Train Accuracy: 0.1\n",
      "Test Loss: 3.2584944399194216 Test Accuracy: 0.1\n",
      "\n",
      "\n",
      "Train Loss:  3.2461356895034226 Train Accuracy: 0.12\n",
      "Test Loss: 3.2565164924626533 Test Accuracy: 0.08\n",
      "\n",
      "\n",
      "Train Loss:  3.2561230797876055 Train Accuracy: 0.1\n",
      "Test Loss: 3.251138505222719 Test Accuracy: 0.08\n",
      "\n",
      "\n",
      "Train Loss:  3.233903292056271 Train Accuracy: 0.16\n",
      "Test Loss: 3.259349439920702 Test Accuracy: 0.08\n",
      "\n",
      "\n",
      "Train Loss:  3.2262968751842855 Train Accuracy: 0.12\n",
      "Test Loss: 3.214555115156509 Test Accuracy: 0.14\n",
      "\n",
      "\n"
     ]
    },
    {
     "ename": "KeyboardInterrupt",
     "evalue": "",
     "output_type": "error",
     "traceback": [
      "\u001b[0;31m---------------------------------------------------------------------------\u001b[0m",
      "\u001b[0;31mKeyboardInterrupt\u001b[0m                         Traceback (most recent call last)",
      "\u001b[0;32m<ipython-input-14-a0f3cb77ac52>\u001b[0m in \u001b[0;36m<module>\u001b[0;34m\u001b[0m\n\u001b[0;32m----> 1\u001b[0;31m \u001b[0mnet\u001b[0m\u001b[0;34m.\u001b[0m\u001b[0mfit\u001b[0m\u001b[0;34m(\u001b[0m\u001b[0mx_train\u001b[0m\u001b[0;34m,\u001b[0m\u001b[0my_train_one_hote\u001b[0m\u001b[0;34m,\u001b[0m\u001b[0mx_test\u001b[0m\u001b[0;34m,\u001b[0m\u001b[0my_test_one_hote\u001b[0m\u001b[0;34m,\u001b[0m\u001b[0mbatch_size\u001b[0m\u001b[0;34m=\u001b[0m\u001b[0;36m50\u001b[0m\u001b[0;34m,\u001b[0m\u001b[0mnum_epochs\u001b[0m \u001b[0;34m=\u001b[0m \u001b[0;36m10\u001b[0m\u001b[0;34m,\u001b[0m\u001b[0mnum_steps\u001b[0m\u001b[0;34m=\u001b[0m\u001b[0;36m1000\u001b[0m\u001b[0;34m,\u001b[0m\u001b[0mlr\u001b[0m\u001b[0;34m=\u001b[0m\u001b[0;36m0.1\u001b[0m\u001b[0;34m)\u001b[0m\u001b[0;34m\u001b[0m\u001b[0;34m\u001b[0m\u001b[0m\n\u001b[0m",
      "\u001b[0;32m<ipython-input-11-b03cb04316d2>\u001b[0m in \u001b[0;36mfit\u001b[0;34m(self, X_train, Y_train, X_test, Y_test, batch_size, lr, num_epochs, num_steps)\u001b[0m\n\u001b[1;32m    140\u001b[0m                 \u001b[0mtrain_batch\u001b[0m\u001b[0;34m,\u001b[0m \u001b[0my_train_batch\u001b[0m \u001b[0;34m=\u001b[0m \u001b[0mself\u001b[0m\u001b[0;34m.\u001b[0m\u001b[0mgenerate_mini_batch\u001b[0m\u001b[0;34m(\u001b[0m\u001b[0mX_train\u001b[0m\u001b[0;34m,\u001b[0m\u001b[0mY_train\u001b[0m\u001b[0;34m,\u001b[0m\u001b[0mbatch_size\u001b[0m\u001b[0;34m)\u001b[0m\u001b[0;34m\u001b[0m\u001b[0;34m\u001b[0m\u001b[0m\n\u001b[1;32m    141\u001b[0m \u001b[0;34m\u001b[0m\u001b[0m\n\u001b[0;32m--> 142\u001b[0;31m                 \u001b[0mnabla_w\u001b[0m\u001b[0;34m,\u001b[0m\u001b[0mnabla_b\u001b[0m \u001b[0;34m=\u001b[0m \u001b[0mself\u001b[0m\u001b[0;34m.\u001b[0m\u001b[0mget_batch_gradients\u001b[0m\u001b[0;34m(\u001b[0m\u001b[0mtrain_batch\u001b[0m\u001b[0;34m,\u001b[0m\u001b[0my_train_batch\u001b[0m\u001b[0;34m,\u001b[0m\u001b[0mbatch_size\u001b[0m\u001b[0;34m)\u001b[0m\u001b[0;34m\u001b[0m\u001b[0;34m\u001b[0m\u001b[0m\n\u001b[0m\u001b[1;32m    143\u001b[0m \u001b[0;34m\u001b[0m\u001b[0m\n\u001b[1;32m    144\u001b[0m                 \u001b[0mself\u001b[0m\u001b[0;34m.\u001b[0m\u001b[0mSGD\u001b[0m\u001b[0;34m(\u001b[0m\u001b[0mnabla_w\u001b[0m\u001b[0;34m,\u001b[0m\u001b[0mnabla_b\u001b[0m\u001b[0;34m,\u001b[0m\u001b[0mlr\u001b[0m\u001b[0;34m)\u001b[0m\u001b[0;34m\u001b[0m\u001b[0;34m\u001b[0m\u001b[0m\n",
      "\u001b[0;32m<ipython-input-11-b03cb04316d2>\u001b[0m in \u001b[0;36mget_batch_gradients\u001b[0;34m(self, batch, y_true, batch_size)\u001b[0m\n\u001b[1;32m    116\u001b[0m             \u001b[0my\u001b[0m \u001b[0;34m=\u001b[0m \u001b[0my_true\u001b[0m\u001b[0;34m[\u001b[0m\u001b[0;34m:\u001b[0m\u001b[0;34m,\u001b[0m\u001b[0mi\u001b[0m\u001b[0;34m]\u001b[0m\u001b[0;34m.\u001b[0m\u001b[0mreshape\u001b[0m\u001b[0;34m(\u001b[0m\u001b[0;34m-\u001b[0m\u001b[0;36m1\u001b[0m\u001b[0;34m,\u001b[0m\u001b[0;36m1\u001b[0m\u001b[0;34m)\u001b[0m\u001b[0;34m\u001b[0m\u001b[0;34m\u001b[0m\u001b[0m\n\u001b[1;32m    117\u001b[0m \u001b[0;34m\u001b[0m\u001b[0m\n\u001b[0;32m--> 118\u001b[0;31m             \u001b[0mZ_history\u001b[0m\u001b[0;34m,\u001b[0m\u001b[0mA_history\u001b[0m \u001b[0;34m=\u001b[0m \u001b[0mself\u001b[0m\u001b[0;34m.\u001b[0m\u001b[0mforward\u001b[0m\u001b[0;34m(\u001b[0m\u001b[0mx\u001b[0m\u001b[0;34m)\u001b[0m\u001b[0;34m\u001b[0m\u001b[0;34m\u001b[0m\u001b[0m\n\u001b[0m\u001b[1;32m    119\u001b[0m \u001b[0;34m\u001b[0m\u001b[0m\n\u001b[1;32m    120\u001b[0m             \u001b[0mdelta_nabla_w\u001b[0m\u001b[0;34m,\u001b[0m\u001b[0mdelta_nabla_b\u001b[0m \u001b[0;34m=\u001b[0m \u001b[0mself\u001b[0m\u001b[0;34m.\u001b[0m\u001b[0mback_prop\u001b[0m\u001b[0;34m(\u001b[0m\u001b[0mx\u001b[0m\u001b[0;34m,\u001b[0m \u001b[0my\u001b[0m\u001b[0;34m,\u001b[0m \u001b[0mA_history\u001b[0m\u001b[0;34m,\u001b[0m \u001b[0mZ_history\u001b[0m\u001b[0;34m)\u001b[0m\u001b[0;34m\u001b[0m\u001b[0;34m\u001b[0m\u001b[0m\n",
      "\u001b[0;32m<ipython-input-11-b03cb04316d2>\u001b[0m in \u001b[0;36mforward\u001b[0;34m(self, x)\u001b[0m\n\u001b[1;32m     76\u001b[0m         \u001b[0mA_history\u001b[0m\u001b[0;34m.\u001b[0m\u001b[0mappend\u001b[0m\u001b[0;34m(\u001b[0m\u001b[0mA\u001b[0m\u001b[0;34m)\u001b[0m\u001b[0;34m\u001b[0m\u001b[0;34m\u001b[0m\u001b[0m\n\u001b[1;32m     77\u001b[0m         \u001b[0;32mfor\u001b[0m \u001b[0mi\u001b[0m \u001b[0;32min\u001b[0m \u001b[0mrange\u001b[0m\u001b[0;34m(\u001b[0m\u001b[0mself\u001b[0m\u001b[0;34m.\u001b[0m\u001b[0mnum_layers\u001b[0m\u001b[0;34m)\u001b[0m\u001b[0;34m:\u001b[0m\u001b[0;34m\u001b[0m\u001b[0;34m\u001b[0m\u001b[0m\n\u001b[0;32m---> 78\u001b[0;31m             \u001b[0mZ\u001b[0m \u001b[0;34m=\u001b[0m \u001b[0mnp\u001b[0m\u001b[0;34m.\u001b[0m\u001b[0mdot\u001b[0m\u001b[0;34m(\u001b[0m\u001b[0mself\u001b[0m\u001b[0;34m.\u001b[0m\u001b[0mW\u001b[0m\u001b[0;34m[\u001b[0m\u001b[0mi\u001b[0m\u001b[0;34m]\u001b[0m\u001b[0;34m,\u001b[0m\u001b[0mA\u001b[0m\u001b[0;34m)\u001b[0m \u001b[0;34m+\u001b[0m \u001b[0mself\u001b[0m\u001b[0;34m.\u001b[0m\u001b[0mB\u001b[0m\u001b[0;34m[\u001b[0m\u001b[0mi\u001b[0m\u001b[0;34m]\u001b[0m\u001b[0;34m\u001b[0m\u001b[0;34m\u001b[0m\u001b[0m\n\u001b[0m\u001b[1;32m     79\u001b[0m             \u001b[0mA\u001b[0m \u001b[0;34m=\u001b[0m \u001b[0mself\u001b[0m\u001b[0;34m.\u001b[0m\u001b[0mactivations\u001b[0m\u001b[0;34m[\u001b[0m\u001b[0mi\u001b[0m\u001b[0;34m]\u001b[0m\u001b[0;34m(\u001b[0m\u001b[0mZ\u001b[0m\u001b[0;34m)\u001b[0m\u001b[0;34m\u001b[0m\u001b[0;34m\u001b[0m\u001b[0m\n\u001b[1;32m     80\u001b[0m             \u001b[0mZ_history\u001b[0m\u001b[0;34m.\u001b[0m\u001b[0mappend\u001b[0m\u001b[0;34m(\u001b[0m\u001b[0mZ\u001b[0m\u001b[0;34m)\u001b[0m\u001b[0;34m\u001b[0m\u001b[0;34m\u001b[0m\u001b[0m\n",
      "\u001b[0;31mKeyboardInterrupt\u001b[0m: "
     ]
    }
   ],
   "source": [
    "net.fit(x_train,y_train_one_hote,x_test,y_test_one_hote,batch_size=50,num_epochs = 10,num_steps=1000,lr=0.1)"
   ]
  },
  {
   "cell_type": "code",
   "execution_count": 161,
   "metadata": {},
   "outputs": [
    {
     "data": {
      "image/png": "[encoded data removed]",
      "text/plain": [
       "<Figure size 432x288 with 1 Axes>"
      ]
     },
     "metadata": {
      "needs_background": "light"
     },
     "output_type": "display_data"
    }
   ],
   "source": [
    "net.plot_loss()"
   ]
  },
  {
   "cell_type": "code",
   "execution_count": 162,
   "metadata": {},
   "outputs": [
    {
     "data": {
      "image/png": "[encoded data removed]",
      "text/plain": [
       "<Figure size 432x288 with 1 Axes>"
      ]
     },
     "metadata": {
      "needs_background": "light"
     },
     "output_type": "display_data"
    }
   ],
   "source": [
    "net.plot_accuracy()"
   ]
  },
  {
   "cell_type": "code",
   "execution_count": 163,
   "metadata": {},
   "outputs": [],
   "source": [
    "test_predict = net.predict_batch(x_test)\n",
    "y_pred = np.argmax(test_predict,axis=1)"
   ]
  },
  {
   "cell_type": "code",
   "execution_count": 164,
   "metadata": {},
   "outputs": [
    {
     "name": "stdout",
     "output_type": "stream",
     "text": [
      "              precision    recall  f1-score   support\n",
      "\n",
      "           0       0.93      0.98      0.95       980\n",
      "           1       0.95      0.98      0.96      1135\n",
      "           2       0.91      0.87      0.89      1032\n",
      "           3       0.88      0.90      0.89      1010\n",
      "           4       0.88      0.93      0.90       982\n",
      "           5       0.84      0.84      0.84       892\n",
      "           6       0.94      0.91      0.92       958\n",
      "           7       0.93      0.90      0.91      1028\n",
      "           8       0.88      0.85      0.86       974\n",
      "           9       0.89      0.88      0.89      1009\n",
      "\n",
      "    accuracy                           0.90     10000\n",
      "   macro avg       0.90      0.90      0.90     10000\n",
      "weighted avg       0.90      0.90      0.90     10000\n",
      "\n"
     ]
    }
   ],
   "source": [
    "print(classification_report(y_test,y_pred))"
   ]
  },
  {
   "cell_type": "code",
   "execution_count": null,
   "metadata": {},
   "outputs": [],
   "source": []
  }
 ],
 "metadata": {
  "kernelspec": {
   "display_name": "Python 3",
   "language": "python",
   "name": "python3"
  },
  "language_info": {
   "codemirror_mode": {
    "name": "ipython",
    "version": 3
   },
   "file_extension": ".py",
   "mimetype": "text/x-python",
   "name": "python",
   "nbconvert_exporter": "python",
   "pygments_lexer": "ipython3",
   "version": "3.6.7"
  }
 },
 "nbformat": 4,
 "nbformat_minor": 2
}
